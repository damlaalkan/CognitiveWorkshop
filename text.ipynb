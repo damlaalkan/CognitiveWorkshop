{
  "cells": [
    {
      "metadata": {},
      "cell_type": "markdown",
      "source": "# Azure Text Analytics"
    },
    {
      "metadata": {},
      "cell_type": "markdown",
      "source": "# Create a project and import required modules"
    },
    {
      "metadata": {
        "trusted": false
      },
      "cell_type": "code",
      "source": "import requests\n# pprint is used to format the JSON response\nfrom pprint import pprint\nimport os",
      "execution_count": 3,
      "outputs": []
    },
    {
      "metadata": {},
      "cell_type": "markdown",
      "source": "# Set the subscription key, endpoint, and path"
    },
    {
      "metadata": {
        "trusted": false
      },
      "cell_type": "code",
      "source": "subscription_key= '<SUBSCRIPTION_KEY>'\nendpoint = 'https://<LOCATION>.cognitiveservices.azure.com'",
      "execution_count": 4,
      "outputs": []
    },
    {
      "metadata": {},
      "cell_type": "markdown",
      "source": "# Detect Language"
    },
    {
      "metadata": {
        "trusted": false
      },
      "cell_type": "code",
      "source": "language_api_url = endpoint + \"/text/analytics/v2.1/languages\"",
      "execution_count": 5,
      "outputs": []
    },
    {
      "metadata": {
        "trusted": false
      },
      "cell_type": "code",
      "source": "documents = {\"documents\": [\n    {\"id\": \"1\", \"text\": \"This is a document written in English.\"},\n    {\"id\": \"2\", \"text\": \"Este es un document escrito en Español.\"},\n    {\"id\": \"3\", \"text\": \"这是一个用中文写的文件\"},\n    {\"id\": \"4\", \"text\": \"Bu döküman Türkçe'dir.\"}\n]}",
      "execution_count": 6,
      "outputs": []
    },
    {
      "metadata": {
        "trusted": false
      },
      "cell_type": "code",
      "source": "headers = {\"Ocp-Apim-Subscription-Key\": subscription_key}\nresponse = requests.post(language_api_url, headers=headers, json=documents)\nlanguages = response.json()\npprint(languages)",
      "execution_count": 7,
      "outputs": [
        {
          "name": "stdout",
          "output_type": "stream",
          "text": "{'documents': [{'detectedLanguages': [{'iso6391Name': 'en',\n                                       'name': 'English',\n                                       'score': 1.0}],\n                'id': '1'},\n               {'detectedLanguages': [{'iso6391Name': 'es',\n                                       'name': 'Spanish',\n                                       'score': 1.0}],\n                'id': '2'},\n               {'detectedLanguages': [{'iso6391Name': 'zh_chs',\n                                       'name': 'Chinese_Simplified',\n                                       'score': 1.0}],\n                'id': '3'},\n               {'detectedLanguages': [{'iso6391Name': 'tr',\n                                       'name': 'Turkish',\n                                       'score': 1.0}],\n                'id': '4'}],\n 'errors': []}\n"
        }
      ]
    },
    {
      "metadata": {
        "trusted": false
      },
      "cell_type": "code",
      "source": "languages['documents'][0]['detectedLanguages'][0]['score']",
      "execution_count": 8,
      "outputs": [
        {
          "data": {
            "text/plain": "1.0"
          },
          "execution_count": 8,
          "metadata": {},
          "output_type": "execute_result"
        }
      ]
    },
    {
      "metadata": {},
      "cell_type": "markdown",
      "source": "# Sentiment Analysis"
    },
    {
      "metadata": {
        "trusted": false
      },
      "cell_type": "code",
      "source": "sentiment_url = endpoint + \"/text/analytics/v2.1/sentiment\"",
      "execution_count": 9,
      "outputs": []
    },
    {
      "metadata": {
        "trusted": false
      },
      "cell_type": "code",
      "source": "documents = {\"documents\": [\n    {\"id\": \"1\", \"language\": \"en\",\n        \"text\": \"I had a wonderful experience! The rooms were wonderful and the staff was helpful.\"},\n    {\"id\": \"2\", \"language\": \"en\",\n        \"text\": \"I had a terrible time at the hotel. The staff was rude and the food was awful.\"},\n    {\"id\": \"3\", \"language\": \"es\",\n        \"text\": \"Los caminos que llevan hasta Monte Rainier son espectaculares y hermosos.\"},\n    {\"id\": \"4\", \"language\": \"tr\",\n     \"text\": \" Manyak güzel bir etkinlikti. \"}\n]}",
      "execution_count": 13,
      "outputs": []
    },
    {
      "metadata": {
        "trusted": false
      },
      "cell_type": "code",
      "source": "headers = {\"Ocp-Apim-Subscription-Key\": subscription_key}\nresponse = requests.post(sentiment_url, headers=headers, json=documents)\nsentiments = response.json()\npprint(sentiments)",
      "execution_count": 14,
      "outputs": [
        {
          "name": "stdout",
          "output_type": "stream",
          "text": "{'documents': [{'id': '1', 'score': 0.9708490371704102},\n               {'id': '2', 'score': 0.0019068121910095215},\n               {'id': '3', 'score': 0.7456425428390503},\n               {'id': '4', 'score': 0.6754799485206604}],\n 'errors': []}\n"
        }
      ]
    },
    {
      "metadata": {},
      "cell_type": "markdown",
      "source": "# Key Phrases (no turkish support)"
    },
    {
      "metadata": {
        "trusted": false
      },
      "cell_type": "code",
      "source": "keyphrase_url = endpoint + \"/text/analytics/v2.1/keyphrases\"",
      "execution_count": 12,
      "outputs": []
    },
    {
      "metadata": {
        "trusted": false
      },
      "cell_type": "code",
      "source": "documents = {\"documents\": [\n    {\"id\": \"1\", \"language\": \"en\",\n        \"text\": \"I had a wonderful experience! The rooms were wonderful and the staff was helpful.\"},\n    {\"id\": \"2\", \"language\": \"en\",\n        \"text\": \"I had a terrible time at the hotel. The staff was rude and the food was awful.\"},\n    {\"id\": \"3\", \"language\": \"es\",\n        \"text\": \"Los caminos que llevan hasta Monte Rainier son espectaculares y hermosos.\"},\n    {\"id\": \"4\", \"language\": \"tr\",\n     \"text\": \"Arçelik şirketi olarak yeni bir sürü projeye başlıyor. Yapay zeka ile tüm projeler harika olacak. \"}\n]}",
      "execution_count": 13,
      "outputs": []
    },
    {
      "metadata": {
        "trusted": false
      },
      "cell_type": "code",
      "source": "headers = {\"Ocp-Apim-Subscription-Key\": subscription_key}\nresponse = requests.post(keyphrase_url, headers=headers, json=documents)\nkey_phrases = response.json()\npprint(key_phrases)",
      "execution_count": 14,
      "outputs": [
        {
          "name": "stdout",
          "output_type": "stream",
          "text": "{'documents': [{'id': '1',\n                'keyPhrases': ['wonderful experience', 'staff', 'rooms']},\n               {'id': '2',\n                'keyPhrases': ['food', 'terrible time', 'hotel', 'staff']},\n               {'id': '3', 'keyPhrases': ['Monte Rainier', 'caminos']}],\n 'errors': [{'id': '4',\n             'message': 'Supplied language is not supported. Pass in one of: '\n                        'da,de,en,es,fi,fr,it,ja,ko,nl,no,pl,pt-BR,pt-PT,ru,sv. '\n                        'See '\n                        'https://docs.microsoft.com/en-us/azure/cognitive-services/text-analytics/overview '\n                        'for the complete list of support languages.'}]}\n"
        }
      ]
    },
    {
      "metadata": {},
      "cell_type": "markdown",
      "source": "# Entities"
    },
    {
      "metadata": {
        "trusted": false
      },
      "cell_type": "code",
      "source": "entities_url = endpoint + \"/text/analytics/v2.1/entities\"",
      "execution_count": 18,
      "outputs": []
    },
    {
      "metadata": {
        "trusted": false
      },
      "cell_type": "code",
      "source": "documents = {\"documents\": [\n    {\"id\": \"1\", \"text\": \"Microsoft was founded by Bill Gates and Paul Allen on April 4, 1975, to develop and sell BASIC interpreters for the Altair 8800.\"},\n    {\"id\": \"2\", \"text\": 'Damla Alkan Kuveyttürk bankasında İstanbulda bir etkinlik gerçekleştirdi.'}\n]}",
      "execution_count": 17,
      "outputs": []
    },
    {
      "metadata": {
        "trusted": false
      },
      "cell_type": "code",
      "source": "documents = {\"documents\": [\n    {\"id\": \"1\", \"text\":'Damla Alkan İstanbulda bir etkinlik gerçekleştirdi. Kuveyttürk bankasında bir etkinlik yaptık. Damla Alkan mail adresi damlaalkan@hotmail.com '}\n]}",
      "execution_count": 23,
      "outputs": []
    },
    {
      "metadata": {
        "trusted": false
      },
      "cell_type": "code",
      "source": "headers = {\"Ocp-Apim-Subscription-Key\": subscription_key}\nresponse = requests.post(entities_url, headers=headers, json=documents)\nentities = response.json()\npprint(entities)",
      "execution_count": 24,
      "outputs": [
        {
          "name": "stdout",
          "output_type": "stream",
          "text": "{'documents': [{'entities': [{'matches': [{'entityTypeScore': 0.8929335474967957,\n                                           'length': 11,\n                                           'offset': 0,\n                                           'text': 'Damla Alkan'}],\n                              'name': 'Damla Alkan',\n                              'type': 'Person'},\n                             {'matches': [{'entityTypeScore': 0.5409102439880371,\n                                           'length': 21,\n                                           'offset': 52,\n                                           'text': 'Kuveyttürk bankasında'}],\n                              'name': 'Kuveyttürk bankasında',\n                              'type': 'Person'},\n                             {'matches': [{'entityTypeScore': 0.6876459121704102,\n                                           'length': 11,\n                                           'offset': 95,\n                                           'text': 'Damla Alkan'}],\n                              'name': 'Damla Alkan',\n                              'type': 'Organization'},\n                             {'matches': [{'entityTypeScore': 0.8,\n                                           'length': 22,\n                                           'offset': 119,\n                                           'text': 'damlaalkan@hotmail.com'}],\n                              'name': 'damlaalkan@hotmail.com',\n                              'type': 'Email'}],\n                'id': '1'}],\n 'errors': []}\n"
        }
      ]
    },
    {
      "metadata": {
        "trusted": false
      },
      "cell_type": "code",
      "source": "",
      "execution_count": null,
      "outputs": []
    }
  ],
  "metadata": {
    "kernelspec": {
      "name": "python36",
      "display_name": "Python 3.6",
      "language": "python"
    },
    "language_info": {
      "mimetype": "text/x-python",
      "nbconvert_exporter": "python",
      "name": "python",
      "pygments_lexer": "ipython3",
      "version": "3.6.6",
      "file_extension": ".py",
      "codemirror_mode": {
        "version": 3,
        "name": "ipython"
      }
    }
  },
  "nbformat": 4,
  "nbformat_minor": 2
}