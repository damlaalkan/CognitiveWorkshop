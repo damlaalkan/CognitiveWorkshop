{
  "cells": [
    {
      "metadata": {
        "trusted": true
      },
      "cell_type": "code",
      "source": "import os\nimport requests\nimport time\nfrom xml.etree import ElementTree",
      "execution_count": 4,
      "outputs": []
    },
    {
      "metadata": {
        "trusted": true
      },
      "cell_type": "code",
      "source": "try:\n    input = raw_input\nexcept NameError:\n    pass",
      "execution_count": 5,
      "outputs": []
    },
    {
      "metadata": {
        "trusted": true
      },
      "cell_type": "code",
      "source": "class TextToSpeech(object):\n    def __init__(self, subscription_key):\n        self.subscription_key = subscription_key\n        self.tts = input(\"What would you like to convert to speech: \")\n        self.timestr = time.strftime(\"%Y%m%d-%H%M\")\n        self.access_token = None\n    def get_token(self):\n        fetch_token_url = \"https://<LOCATION>.api.cognitive.microsoft.com/sts/v1.0/issueToken\"\n        headers = {\n            'Ocp-Apim-Subscription-Key': self.subscription_key\n        }\n        response = requests.post(fetch_token_url, headers=headers)\n        self.access_token = str(response.text)\n    def save_audio(self):\n        base_url = 'https://<LOCATION>.tts.speech.microsoft.com/'\n        path = 'cognitiveservices/v1'\n        constructed_url = base_url + path\n        headers = {\n            'Authorization': 'Bearer ' + self.access_token,\n            'Content-Type': 'application/ssml+xml',\n            'X-Microsoft-OutputFormat': 'riff-24khz-16bit-mono-pcm',\n            'User-Agent': 'Damla_Speech'\n        }\n        xml_body = ElementTree.Element('speak', version='1.0')\n        xml_body.set('{http://www.w3.org/XML/1998/namespace}lang', 'en-us')\n        voice = ElementTree.SubElement(xml_body, 'voice')\n        voice.set('{http://www.w3.org/XML/1998/namespace}lang', 'tr-TR')\n        voice.set(\n            'name', 'Microsoft Server Speech Text to Speech Voice (tr-TR, SedaRUS)')\n        voice.text = self.tts\n        body = ElementTree.tostring(xml_body)\n\n        response = requests.post(constructed_url, headers=headers, data=body)\n        if response.status_code == 200:\n            with open('sample-' + self.timestr + '.wav', 'wb') as audio:\n                audio.write(response.content)\n                print(\"\\nStatus code: \" + str(response.status_code) +\n                      \"\\nYour TTS is ready for playback.\\n\")\n        else:\n            print(\"\\nStatus code: \" + str(response.status_code) +\n                  \"\\nSomething went wrong. Check your subscription key and headers.\\n\")\n",
      "execution_count": 6,
      "outputs": []
    },
    {
      "metadata": {
        "trusted": true
      },
      "cell_type": "code",
      "source": "if __name__ == \"__main__\":\n    subscription_key = \"<SUBSCRIPTION_KEY>\"\n    app = TextToSpeech(subscription_key)\n    app.get_token()\n    app.save_audio()",
      "execution_count": 7,
      "outputs": [
        {
          "output_type": "stream",
          "name": "stdout",
          "text": "What would you like to convert to speech: Bugün Microsoft Bilişsel Servisleri ile çalışma yapıyoruz.\n\nStatus code: 200\nYour TTS is ready for playback.\n\n"
        }
      ]
    },
    {
      "metadata": {
        "trusted": true
      },
      "cell_type": "code",
      "source": "",
      "execution_count": null,
      "outputs": []
    }
  ],
  "metadata": {
    "kernelspec": {
      "name": "python36",
      "display_name": "Python 3.6",
      "language": "python"
    },
    "language_info": {
      "mimetype": "text/x-python",
      "nbconvert_exporter": "python",
      "name": "python",
      "pygments_lexer": "ipython3",
      "version": "3.6.6",
      "file_extension": ".py",
      "codemirror_mode": {
        "version": 3,
        "name": "ipython"
      }
    }
  },
  "nbformat": 4,
  "nbformat_minor": 2
}