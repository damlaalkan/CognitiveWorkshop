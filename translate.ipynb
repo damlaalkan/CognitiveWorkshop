{
  "cells": [
    {
      "metadata": {},
      "cell_type": "markdown",
      "source": "# Azure Translate API"
    },
    {
      "metadata": {},
      "cell_type": "markdown",
      "source": "https://docs.microsoft.com/en-us/azure/cognitive-services/translator/translator-info-overview"
    },
    {
      "metadata": {},
      "cell_type": "markdown",
      "source": "# Set the subscription key, endpoint, and path"
    },
    {
      "metadata": {
        "trusted": true
      },
      "cell_type": "code",
      "source": "import os, requests, uuid, json\n\nsubscription_key = '<SUBSCRIPTION_KEY>'\n\nendpoint = 'https://api.cognitive.microsofttranslator.com/'\n",
      "execution_count": 1,
      "outputs": []
    },
    {
      "metadata": {},
      "cell_type": "markdown",
      "source": "# Transliterate"
    },
    {
      "metadata": {
        "trusted": true
      },
      "cell_type": "code",
      "source": "# If you encounter any issues with the base_url or path, make sure\n# that you are using the latest endpoint: https://docs.microsoft.com/azure/cognitive-services/translator/reference/v3-0-transliterate\n\npath = '/transliterate?api-version=3.0'\nparams = '&language=ja&fromScript=jpan&toScript=latn'\nconstructed_url = endpoint + path + params",
      "execution_count": 30,
      "outputs": []
    },
    {
      "metadata": {
        "trusted": true
      },
      "cell_type": "code",
      "source": "headers = {\n    'Ocp-Apim-Subscription-Key': subscription_key,\n    'Content-type': 'application/json',\n    'X-ClientTraceId': str(uuid.uuid4())\n}",
      "execution_count": 31,
      "outputs": []
    },
    {
      "metadata": {
        "trusted": true
      },
      "cell_type": "code",
      "source": "# Transliterate \"good afternoon\" from source Japanese.\n# Note: You can pass more than one object in body.\nbody = [{\n\n    'text': 'こんにちは'\n\n}]\nrequest = requests.post(constructed_url, headers=headers, json=body)\nresponse = request.json()\n\nprint(json.dumps(response, sort_keys=True, indent=4, ensure_ascii=False, separators=(',', ': ')))",
      "execution_count": 32,
      "outputs": [
        {
          "output_type": "stream",
          "text": "[\n    {\n        \"script\": \"latn\",\n        \"text\": \"Kon'nichiwa\"\n    }\n]\n",
          "name": "stdout"
        }
      ]
    },
    {
      "metadata": {},
      "cell_type": "markdown",
      "source": "# Translate Language"
    },
    {
      "metadata": {
        "trusted": true
      },
      "cell_type": "code",
      "source": "path = '/translate?api-version=3.0'\nparams = '&to=tr&to=en'\nconstructed_url = endpoint + path + params",
      "execution_count": 57,
      "outputs": []
    },
    {
      "metadata": {
        "trusted": true
      },
      "cell_type": "code",
      "source": "headers = {\n    'Ocp-Apim-Subscription-Key': subscription_key,\n    'Content-type': 'application/json',\n    'X-ClientTraceId': str(uuid.uuid4())\n}",
      "execution_count": 58,
      "outputs": []
    },
    {
      "metadata": {
        "trusted": true
      },
      "cell_type": "code",
      "source": "body = [{\n    'text': 'table'\n}]",
      "execution_count": 59,
      "outputs": []
    },
    {
      "metadata": {
        "trusted": true
      },
      "cell_type": "code",
      "source": "request = requests.post(constructed_url, headers=headers, json=body)\nresponse = request.json()",
      "execution_count": 60,
      "outputs": []
    },
    {
      "metadata": {
        "trusted": true
      },
      "cell_type": "code",
      "source": "print(json.dumps(response, sort_keys=True, indent=4,\n                 ensure_ascii=False, separators=(',', ': ')))",
      "execution_count": 61,
      "outputs": [
        {
          "output_type": "stream",
          "text": "[\n    {\n        \"detectedLanguage\": {\n            \"language\": \"en\",\n            \"score\": 1.0\n        },\n        \"translations\": [\n            {\n                \"text\": \"Tablo\",\n                \"to\": \"tr\"\n            },\n            {\n                \"text\": \"table\",\n                \"to\": \"en\"\n            }\n        ]\n    }\n]\n",
          "name": "stdout"
        }
      ]
    },
    {
      "metadata": {},
      "cell_type": "markdown",
      "source": "# Detect Language"
    },
    {
      "metadata": {
        "trusted": true
      },
      "cell_type": "code",
      "source": "path = '/detect?api-version=3.0'\nconstructed_url = endpoint + path",
      "execution_count": 62,
      "outputs": []
    },
    {
      "metadata": {
        "trusted": true
      },
      "cell_type": "code",
      "source": "headers = {\n    'Ocp-Apim-Subscription-Key': subscription_key,\n    'Content-type': 'application/json',\n    'X-ClientTraceId': str(uuid.uuid4())\n}",
      "execution_count": 63,
      "outputs": []
    },
    {
      "metadata": {
        "trusted": true
      },
      "cell_type": "code",
      "source": "# You can pass more than one object in body.\nbody = [{\n    'text': ' Bugün Microsoft Bilişsel Servisleri ile bir çalışma gerçekleştiriyoruz.'\n}]",
      "execution_count": 64,
      "outputs": []
    },
    {
      "metadata": {
        "trusted": true
      },
      "cell_type": "code",
      "source": "request = requests.post(constructed_url, headers=headers, json=body)\nresponse = request.json()",
      "execution_count": 65,
      "outputs": []
    },
    {
      "metadata": {
        "trusted": true
      },
      "cell_type": "code",
      "source": "print(json.dumps(response, sort_keys=True, indent=4,\n                 ensure_ascii=False, separators=(',', ': ')))",
      "execution_count": 66,
      "outputs": [
        {
          "output_type": "stream",
          "text": "[\n    {\n        \"alternatives\": [\n            {\n                \"isTranslationSupported\": true,\n                \"isTransliterationSupported\": false,\n                \"language\": \"nl\",\n                \"score\": 0.38\n            }\n        ],\n        \"isTranslationSupported\": true,\n        \"isTransliterationSupported\": false,\n        \"language\": \"tr\",\n        \"score\": 1.0\n    }\n]\n",
          "name": "stdout"
        }
      ]
    },
    {
      "metadata": {},
      "cell_type": "markdown",
      "source": "# Dictionary Lookup"
    },
    {
      "metadata": {
        "trusted": true
      },
      "cell_type": "code",
      "source": "path = '/dictionary/lookup?api-version=3.0'\nparams = '&from=de&to=en'\nconstructed_url = endpoint + path + params",
      "execution_count": 52,
      "outputs": []
    },
    {
      "metadata": {
        "trusted": true
      },
      "cell_type": "code",
      "source": "headers = {\n    'Ocp-Apim-Subscription-Key': subscription_key,\n    'Content-type': 'application/json',\n    'X-ClientTraceId': str(uuid.uuid4())\n}",
      "execution_count": 53,
      "outputs": []
    },
    {
      "metadata": {
        "trusted": true
      },
      "cell_type": "code",
      "source": "body = [{\n    'text': 'Friend'\n}]",
      "execution_count": 54,
      "outputs": []
    },
    {
      "metadata": {
        "trusted": true
      },
      "cell_type": "code",
      "source": "request = requests.post(constructed_url, headers=headers, json=body)\nresponse = request.json()",
      "execution_count": 55,
      "outputs": []
    },
    {
      "metadata": {
        "trusted": true
      },
      "cell_type": "code",
      "source": "print(json.dumps(response, sort_keys=True, indent=4,\n                 ensure_ascii=False, separators=(',', ': ')))",
      "execution_count": 56,
      "outputs": [
        {
          "output_type": "stream",
          "text": "[\n    {\n        \"displaySource\": \"Friend\",\n        \"normalizedSource\": \"friend\",\n        \"translations\": [\n            {\n                \"backTranslations\": [\n                    {\n                        \"displayText\": \"Freund\",\n                        \"frequencyCount\": 25250,\n                        \"normalizedText\": \"freund\",\n                        \"numExamples\": 15\n                    },\n                    {\n                        \"displayText\": \"Friend\",\n                        \"frequencyCount\": 1570,\n                        \"normalizedText\": \"friend\",\n                        \"numExamples\": 0\n                    },\n                    {\n                        \"displayText\": \"hinzu\",\n                        \"frequencyCount\": 507,\n                        \"normalizedText\": \"hinzu\",\n                        \"numExamples\": 0\n                    },\n                    {\n                        \"displayText\": \"bekannter\",\n                        \"frequencyCount\": 436,\n                        \"normalizedText\": \"bekannter\",\n                        \"numExamples\": 1\n                    },\n                    {\n                        \"displayText\": \"deinen\",\n                        \"frequencyCount\": 246,\n                        \"normalizedText\": \"deinen\",\n                        \"numExamples\": 0\n                    }\n                ],\n                \"confidence\": 1.0,\n                \"displayTarget\": \"friend\",\n                \"normalizedTarget\": \"friend\",\n                \"posTag\": \"NOUN\",\n                \"prefixWord\": \"\"\n            }\n        ]\n    }\n]\n",
          "name": "stdout"
        }
      ]
    },
    {
      "metadata": {},
      "cell_type": "markdown",
      "source": "# Get Supported Languages"
    },
    {
      "metadata": {
        "trusted": true
      },
      "cell_type": "code",
      "source": "path = '/languages?api-version=3.0'\nconstructed_url = endpoint + path",
      "execution_count": 48,
      "outputs": []
    },
    {
      "metadata": {
        "trusted": true
      },
      "cell_type": "code",
      "source": "headers = {\n    'Content-type': 'application/json',\n    'X-ClientTraceId': str(uuid.uuid4())\n}",
      "execution_count": 49,
      "outputs": []
    },
    {
      "metadata": {
        "trusted": true
      },
      "cell_type": "code",
      "source": "request = requests.get(constructed_url, headers=headers)\nresponse = request.json()",
      "execution_count": 50,
      "outputs": []
    },
    {
      "metadata": {
        "trusted": true
      },
      "cell_type": "code",
      "source": "print(json.dumps(response, sort_keys=True, indent=4,\n                 ensure_ascii=False, separators=(',', ': ')))",
      "execution_count": 51,
      "outputs": [
        {
          "output_type": "stream",
          "text": "{\n    \"dictionary\": {\n        \"af\": {\n            \"dir\": \"ltr\",\n            \"name\": \"Afrikaans\",\n            \"nativeName\": \"Afrikaans\",\n            \"translations\": [\n                {\n                    \"code\": \"en\",\n                    \"dir\": \"ltr\",\n                    \"name\": \"English\",\n                    \"nativeName\": \"English\"\n                }\n            ]\n        },\n        \"ar\": {\n            \"dir\": \"rtl\",\n            \"name\": \"Arabic\",\n            \"nativeName\": \"العربية\",\n            \"translations\": [\n                {\n                    \"code\": \"en\",\n                    \"dir\": \"ltr\",\n                    \"name\": \"English\",\n                    \"nativeName\": \"English\"\n                }\n            ]\n        },\n        \"bg\": {\n            \"dir\": \"ltr\",\n            \"name\": \"Bulgarian\",\n            \"nativeName\": \"Български\",\n            \"translations\": [\n                {\n                    \"code\": \"en\",\n                    \"dir\": \"ltr\",\n                    \"name\": \"English\",\n                    \"nativeName\": \"English\"\n                }\n            ]\n        },\n        \"bn\": {\n            \"dir\": \"ltr\",\n            \"name\": \"Bangla\",\n            \"nativeName\": \"বাংলা\",\n            \"translations\": [\n                {\n                    \"code\": \"en\",\n                    \"dir\": \"ltr\",\n                    \"name\": \"English\",\n                    \"nativeName\": \"English\"\n                }\n            ]\n        },\n        \"bs\": {\n            \"dir\": \"ltr\",\n            \"name\": \"Bosnian (Latin)\",\n            \"nativeName\": \"bosanski (latinica)\",\n            \"translations\": [\n                {\n                    \"code\": \"en\",\n                    \"dir\": \"ltr\",\n                    \"name\": \"English\",\n                    \"nativeName\": \"English\"\n                }\n            ]\n        },\n        \"ca\": {\n            \"dir\": \"ltr\",\n            \"name\": \"Catalan\",\n            \"nativeName\": \"Català\",\n            \"translations\": [\n                {\n                    \"code\": \"en\",\n                    \"dir\": \"ltr\",\n                    \"name\": \"English\",\n                    \"nativeName\": \"English\"\n                }\n            ]\n        },\n        \"cs\": {\n            \"dir\": \"ltr\",\n            \"name\": \"Czech\",\n            \"nativeName\": \"Čeština\",\n            \"translations\": [\n                {\n                    \"code\": \"en\",\n                    \"dir\": \"ltr\",\n                    \"name\": \"English\",\n                    \"nativeName\": \"English\"\n                }\n            ]\n        },\n        \"cy\": {\n            \"dir\": \"ltr\",\n            \"name\": \"Welsh\",\n            \"nativeName\": \"Welsh\",\n            \"translations\": [\n                {\n                    \"code\": \"en\",\n                    \"dir\": \"ltr\",\n                    \"name\": \"English\",\n                    \"nativeName\": \"English\"\n                }\n            ]\n        },\n        \"da\": {\n            \"dir\": \"ltr\",\n            \"name\": \"Danish\",\n            \"nativeName\": \"Dansk\",\n            \"translations\": [\n                {\n                    \"code\": \"en\",\n                    \"dir\": \"ltr\",\n                    \"name\": \"English\",\n                    \"nativeName\": \"English\"\n                }\n            ]\n        },\n        \"de\": {\n            \"dir\": \"ltr\",\n            \"name\": \"German\",\n            \"nativeName\": \"Deutsch\",\n            \"translations\": [\n                {\n                    \"code\": \"en\",\n                    \"dir\": \"ltr\",\n                    \"name\": \"English\",\n                    \"nativeName\": \"English\"\n                }\n            ]\n        },\n        \"el\": {\n            \"dir\": \"ltr\",\n            \"name\": \"Greek\",\n            \"nativeName\": \"Ελληνικά\",\n            \"translations\": [\n                {\n                    \"code\": \"en\",\n                    \"dir\": \"ltr\",\n                    \"name\": \"English\",\n                    \"nativeName\": \"English\"\n                }\n            ]\n        },\n        \"en\": {\n            \"dir\": \"ltr\",\n            \"name\": \"English\",\n            \"nativeName\": \"English\",\n            \"translations\": [\n                {\n                    \"code\": \"af\",\n                    \"dir\": \"ltr\",\n                    \"name\": \"Afrikaans\",\n                    \"nativeName\": \"Afrikaans\"\n                },\n                {\n                    \"code\": \"ar\",\n                    \"dir\": \"rtl\",\n                    \"name\": \"Arabic\",\n                    \"nativeName\": \"العربية\"\n                },\n                {\n                    \"code\": \"bg\",\n                    \"dir\": \"ltr\",\n                    \"name\": \"Bulgarian\",\n                    \"nativeName\": \"Български\"\n                },\n                {\n                    \"code\": \"bn\",\n                    \"dir\": \"ltr\",\n                    \"name\": \"Bangla\",\n                    \"nativeName\": \"বাংলা\"\n                },\n                {\n                    \"code\": \"bs\",\n                    \"dir\": \"ltr\",\n                    \"name\": \"Bosnian (Latin)\",\n                    \"nativeName\": \"bosanski (latinica)\"\n                },\n                {\n                    \"code\": \"ca\",\n                    \"dir\": \"ltr\",\n                    \"name\": \"Catalan\",\n                    \"nativeName\": \"Català\"\n                },\n                {\n                    \"code\": \"zh-Hans\",\n                    \"dir\": \"ltr\",\n                    \"name\": \"Chinese Simplified\",\n                    \"nativeName\": \"简体中文\"\n                },\n                {\n                    \"code\": \"cs\",\n                    \"dir\": \"ltr\",\n                    \"name\": \"Czech\",\n                    \"nativeName\": \"Čeština\"\n                },\n                {\n                    \"code\": \"cy\",\n                    \"dir\": \"ltr\",\n                    \"name\": \"Welsh\",\n                    \"nativeName\": \"Welsh\"\n                },\n                {\n                    \"code\": \"da\",\n                    \"dir\": \"ltr\",\n                    \"name\": \"Danish\",\n                    \"nativeName\": \"Dansk\"\n                },\n                {\n                    \"code\": \"de\",\n                    \"dir\": \"ltr\",\n                    \"name\": \"German\",\n                    \"nativeName\": \"Deutsch\"\n                },\n                {\n                    \"code\": \"el\",\n                    \"dir\": \"ltr\",\n                    \"name\": \"Greek\",\n                    \"nativeName\": \"Ελληνικά\"\n                },\n                {\n                    \"code\": \"es\",\n                    \"dir\": \"ltr\",\n                    \"name\": \"Spanish\",\n                    \"nativeName\": \"Español\"\n                },\n                {\n                    \"code\": \"et\",\n                    \"dir\": \"ltr\",\n                    \"name\": \"Estonian\",\n                    \"nativeName\": \"Eesti\"\n                },\n                {\n                    \"code\": \"fa\",\n                    \"dir\": \"rtl\",\n                    \"name\": \"Persian\",\n                    \"nativeName\": \"Persian\"\n                },\n                {\n                    \"code\": \"fi\",\n                    \"dir\": \"ltr\",\n                    \"name\": \"Finnish\",\n                    \"nativeName\": \"Suomi\"\n                },\n                {\n                    \"code\": \"ht\",\n                    \"dir\": \"ltr\",\n                    \"name\": \"Faroese\",\n                    \"nativeName\": \"Haitian Creole\"\n                },\n                {\n                    \"code\": \"fr\",\n                    \"dir\": \"ltr\",\n                    \"name\": \"French\",\n                    \"nativeName\": \"Français\"\n                },\n                {\n                    \"code\": \"he\",\n                    \"dir\": \"rtl\",\n                    \"name\": \"Hebrew\",\n                    \"nativeName\": \"עברית\"\n                },\n                {\n                    \"code\": \"hi\",\n                    \"dir\": \"ltr\",\n                    \"name\": \"Hindi\",\n                    \"nativeName\": \"हिंदी\"\n                },\n                {\n                    \"code\": \"hr\",\n                    \"dir\": \"ltr\",\n                    \"name\": \"Croatian\",\n                    \"nativeName\": \"Hrvatski\"\n                },\n                {\n                    \"code\": \"hu\",\n                    \"dir\": \"ltr\",\n                    \"name\": \"Hungarian\",\n                    \"nativeName\": \"Magyar\"\n                },\n                {\n                    \"code\": \"id\",\n                    \"dir\": \"ltr\",\n                    \"name\": \"Indonesian\",\n                    \"nativeName\": \"Indonesia\"\n                },\n                {\n                    \"code\": \"is\",\n                    \"dir\": \"ltr\",\n                    \"name\": \"Icelandic\",\n                    \"nativeName\": \"Íslenska\"\n                },\n                {\n                    \"code\": \"it\",\n                    \"dir\": \"ltr\",\n                    \"name\": \"Italian\",\n                    \"nativeName\": \"Italiano\"\n                },\n                {\n                    \"code\": \"ja\",\n                    \"dir\": \"ltr\",\n                    \"name\": \"Japanese\",\n                    \"nativeName\": \"日本語\"\n                },\n                {\n                    \"code\": \"ko\",\n                    \"dir\": \"ltr\",\n                    \"name\": \"Korean\",\n                    \"nativeName\": \"한국어\"\n                },\n                {\n                    \"code\": \"lt\",\n                    \"dir\": \"ltr\",\n                    \"name\": \"Lithuanian\",\n                    \"nativeName\": \"Lietuvių\"\n                },\n                {\n                    \"code\": \"lv\",\n                    \"dir\": \"ltr\",\n                    \"name\": \"Latvian\",\n                    \"nativeName\": \"Latviešu\"\n                },\n                {\n                    \"code\": \"mt\",\n                    \"dir\": \"ltr\",\n                    \"name\": \"Maltese\",\n                    \"nativeName\": \"Il-Malti\"\n                },\n                {\n                    \"code\": \"ms\",\n                    \"dir\": \"ltr\",\n                    \"name\": \"Malay\",\n                    \"nativeName\": \"Melayu\"\n                },\n                {\n                    \"code\": \"mww\",\n                    \"dir\": \"ltr\",\n                    \"name\": \"Hmong Daw\",\n                    \"nativeName\": \"Hmong Daw\"\n                },\n                {\n                    \"code\": \"nl\",\n                    \"dir\": \"ltr\",\n                    \"name\": \"Dutch\",\n                    \"nativeName\": \"Nederlands\"\n                },\n                {\n                    \"code\": \"nb\",\n                    \"dir\": \"ltr\",\n                    \"name\": \"Norwegian\",\n                    \"nativeName\": \"Norsk\"\n                },\n                {\n                    \"code\": \"pl\",\n                    \"dir\": \"ltr\",\n                    \"name\": \"Polish\",\n                    \"nativeName\": \"Polski\"\n                },\n                {\n                    \"code\": \"pt\",\n                    \"dir\": \"ltr\",\n                    \"name\": \"Portuguese\",\n                    \"nativeName\": \"Português\"\n                },\n                {\n                    \"code\": \"ro\",\n                    \"dir\": \"ltr\",\n                    \"name\": \"Romanian\",\n                    \"nativeName\": \"Română\"\n                },\n                {\n                    \"code\": \"ru\",\n                    \"dir\": \"ltr\",\n                    \"name\": \"Russian\",\n                    \"nativeName\": \"Русский\"\n                },\n                {\n                    \"code\": \"sk\",\n                    \"dir\": \"ltr\",\n                    \"name\": \"Slovak\",\n                    \"nativeName\": \"Slovenčina\"\n                },\n                {\n                    \"code\": \"sl\",\n                    \"dir\": \"ltr\",\n                    \"name\": \"Slovenian\",\n                    \"nativeName\": \"Slovenščina\"\n                },\n                {\n                    \"code\": \"sr-Latn\",\n                    \"dir\": \"ltr\",\n                    \"name\": \"Serbian (Latin)\",\n                    \"nativeName\": \"srpski (latinica)\"\n                },\n                {\n                    \"code\": \"sv\",\n                    \"dir\": \"ltr\",\n                    \"name\": \"Swedish\",\n                    \"nativeName\": \"Svenska\"\n                },\n                {\n                    \"code\": \"sw\",\n                    \"dir\": \"ltr\",\n                    \"name\": \"Kiswahili\",\n                    \"nativeName\": \"Kiswahili\"\n                },\n                {\n                    \"code\": \"ta\",\n                    \"dir\": \"ltr\",\n                    \"name\": \"Tamil\",\n                    \"nativeName\": \"தமிழ்\"\n                },\n                {\n                    \"code\": \"th\",\n                    \"dir\": \"ltr\",\n                    \"name\": \"Thai\",\n                    \"nativeName\": \"ไทย\"\n                },\n                {\n                    \"code\": \"tlh\",\n                    \"dir\": \"ltr\",\n                    \"name\": \"Klingon\",\n                    \"nativeName\": \"Klingon\"\n                },\n                {\n                    \"code\": \"tr\",\n                    \"dir\": \"ltr\",\n                    \"name\": \"Turkish\",\n                    \"nativeName\": \"Türkçe\"\n                },\n                {\n                    \"code\": \"uk\",\n                    \"dir\": \"ltr\",\n                    \"name\": \"Ukrainian\",\n                    \"nativeName\": \"Українська\"\n                },\n                {\n                    \"code\": \"ur\",\n                    \"dir\": \"rtl\",\n                    \"name\": \"Urdu\",\n                    \"nativeName\": \"اردو\"\n                },\n                {\n                    \"code\": \"vi\",\n                    \"dir\": \"ltr\",\n                    \"name\": \"Vietnamese\",\n                    \"nativeName\": \"Tiếng Việt\"\n                }\n            ]\n        },\n        \"es\": {\n            \"dir\": \"ltr\",\n            \"name\": \"Spanish\",\n            \"nativeName\": \"Español\",\n            \"translations\": [\n                {\n                    \"code\": \"en\",\n                    \"dir\": \"ltr\",\n                    \"name\": \"English\",\n                    \"nativeName\": \"English\"\n                }\n            ]\n        },\n        \"et\": {\n            \"dir\": \"ltr\",\n            \"name\": \"Estonian\",\n            \"nativeName\": \"Eesti\",\n            \"translations\": [\n                {\n                    \"code\": \"en\",\n                    \"dir\": \"ltr\",\n                    \"name\": \"English\",\n                    \"nativeName\": \"English\"\n                }\n            ]\n        },\n        \"fa\": {\n            \"dir\": \"rtl\",\n            \"name\": \"Persian\",\n            \"nativeName\": \"Persian\",\n            \"translations\": [\n                {\n                    \"code\": \"en\",\n                    \"dir\": \"ltr\",\n                    \"name\": \"English\",\n                    \"nativeName\": \"English\"\n                }\n            ]\n        },\n        \"fi\": {\n            \"dir\": \"ltr\",\n            \"name\": \"Finnish\",\n            \"nativeName\": \"Suomi\",\n            \"translations\": [\n                {\n                    \"code\": \"en\",\n                    \"dir\": \"ltr\",\n                    \"name\": \"English\",\n                    \"nativeName\": \"English\"\n                }\n            ]\n        },\n        \"fr\": {\n            \"dir\": \"ltr\",\n            \"name\": \"French\",\n            \"nativeName\": \"Français\",\n            \"translations\": [\n                {\n                    \"code\": \"en\",\n                    \"dir\": \"ltr\",\n                    \"name\": \"English\",\n                    \"nativeName\": \"English\"\n                }\n            ]\n        },\n        \"he\": {\n            \"dir\": \"rtl\",\n            \"name\": \"Hebrew\",\n            \"nativeName\": \"עברית\",\n            \"translations\": [\n                {\n                    \"code\": \"en\",\n                    \"dir\": \"ltr\",\n                    \"name\": \"English\",\n                    \"nativeName\": \"English\"\n                }\n            ]\n        },\n        \"hi\": {\n            \"dir\": \"ltr\",\n            \"name\": \"Hindi\",\n            \"nativeName\": \"हिंदी\",\n            \"translations\": [\n                {\n                    \"code\": \"en\",\n                    \"dir\": \"ltr\",\n                    \"name\": \"English\",\n                    \"nativeName\": \"English\"\n                }\n            ]\n        },\n        \"hr\": {\n            \"dir\": \"ltr\",\n            \"name\": \"Croatian\",\n            \"nativeName\": \"Hrvatski\",\n            \"translations\": [\n                {\n                    \"code\": \"en\",\n                    \"dir\": \"ltr\",\n                    \"name\": \"English\",\n                    \"nativeName\": \"English\"\n                }\n            ]\n        },\n        \"ht\": {\n            \"dir\": \"ltr\",\n            \"name\": \"Faroese\",\n            \"nativeName\": \"Haitian Creole\",\n            \"translations\": [\n                {\n                    \"code\": \"en\",\n                    \"dir\": \"ltr\",\n                    \"name\": \"English\",\n                    \"nativeName\": \"English\"\n                }\n            ]\n        },\n        \"hu\": {\n            \"dir\": \"ltr\",\n            \"name\": \"Hungarian\",\n            \"nativeName\": \"Magyar\",\n            \"translations\": [\n                {\n                    \"code\": \"en\",\n                    \"dir\": \"ltr\",\n                    \"name\": \"English\",\n                    \"nativeName\": \"English\"\n                }\n            ]\n        },\n        \"id\": {\n            \"dir\": \"ltr\",\n            \"name\": \"Indonesian\",\n            \"nativeName\": \"Indonesia\",\n            \"translations\": [\n                {\n                    \"code\": \"en\",\n                    \"dir\": \"ltr\",\n                    \"name\": \"English\",\n                    \"nativeName\": \"English\"\n                }\n            ]\n        },\n        \"is\": {\n            \"dir\": \"ltr\",\n            \"name\": \"Icelandic\",\n            \"nativeName\": \"Íslenska\",\n            \"translations\": [\n                {\n                    \"code\": \"en\",\n                    \"dir\": \"ltr\",\n                    \"name\": \"English\",\n                    \"nativeName\": \"English\"\n                }\n            ]\n        },\n        \"it\": {\n            \"dir\": \"ltr\",\n            \"name\": \"Italian\",\n            \"nativeName\": \"Italiano\",\n            \"translations\": [\n                {\n                    \"code\": \"en\",\n                    \"dir\": \"ltr\",\n                    \"name\": \"English\",\n                    \"nativeName\": \"English\"\n                }\n            ]\n        },\n        \"ja\": {\n            \"dir\": \"ltr\",\n            \"name\": \"Japanese\",\n            \"nativeName\": \"日本語\",\n            \"translations\": [\n                {\n                    \"code\": \"en\",\n                    \"dir\": \"ltr\",\n                    \"name\": \"English\",\n                    \"nativeName\": \"English\"\n                }\n            ]\n        },\n        \"ko\": {\n            \"dir\": \"ltr\",\n            \"name\": \"Korean\",\n            \"nativeName\": \"한국어\",\n            \"translations\": [\n                {\n                    \"code\": \"en\",\n                    \"dir\": \"ltr\",\n                    \"name\": \"English\",\n                    \"nativeName\": \"English\"\n                }\n            ]\n        },\n        \"lt\": {\n            \"dir\": \"ltr\",\n            \"name\": \"Lithuanian\",\n            \"nativeName\": \"Lietuvių\",\n            \"translations\": [\n                {\n                    \"code\": \"en\",\n                    \"dir\": \"ltr\",\n                    \"name\": \"English\",\n                    \"nativeName\": \"English\"\n                }\n            ]\n        },\n        \"lv\": {\n            \"dir\": \"ltr\",\n            \"name\": \"Latvian\",\n            \"nativeName\": \"Latviešu\",\n            \"translations\": [\n                {\n                    \"code\": \"en\",\n                    \"dir\": \"ltr\",\n                    \"name\": \"English\",\n                    \"nativeName\": \"English\"\n                }\n            ]\n        },\n        \"ms\": {\n            \"dir\": \"ltr\",\n            \"name\": \"Malay\",\n            \"nativeName\": \"Melayu\",\n            \"translations\": [\n                {\n                    \"code\": \"en\",\n                    \"dir\": \"ltr\",\n                    \"name\": \"English\",\n                    \"nativeName\": \"English\"\n                }\n            ]\n        },\n        \"mt\": {\n            \"dir\": \"ltr\",\n            \"name\": \"Maltese\",\n            \"nativeName\": \"Il-Malti\",\n            \"translations\": [\n                {\n                    \"code\": \"en\",\n                    \"dir\": \"ltr\",\n                    \"name\": \"English\",\n                    \"nativeName\": \"English\"\n                }\n            ]\n        },\n        \"mww\": {\n            \"dir\": \"ltr\",\n            \"name\": \"Hmong Daw\",\n            \"nativeName\": \"Hmong Daw\",\n            \"translations\": [\n                {\n                    \"code\": \"en\",\n                    \"dir\": \"ltr\",\n                    \"name\": \"English\",\n                    \"nativeName\": \"English\"\n                }\n            ]\n        },\n        \"nb\": {\n            \"dir\": \"ltr\",\n            \"name\": \"Norwegian\",\n            \"nativeName\": \"Norsk\",\n            \"translations\": [\n                {\n                    \"code\": \"en\",\n                    \"dir\": \"ltr\",\n                    \"name\": \"English\",\n                    \"nativeName\": \"English\"\n                }\n            ]\n        },\n        \"nl\": {\n            \"dir\": \"ltr\",\n            \"name\": \"Dutch\",\n            \"nativeName\": \"Nederlands\",\n            \"translations\": [\n                {\n                    \"code\": \"en\",\n                    \"dir\": \"ltr\",\n                    \"name\": \"English\",\n                    \"nativeName\": \"English\"\n                }\n            ]\n        },\n        \"pl\": {\n            \"dir\": \"ltr\",\n            \"name\": \"Polish\",\n            \"nativeName\": \"Polski\",\n            \"translations\": [\n                {\n                    \"code\": \"en\",\n                    \"dir\": \"ltr\",\n                    \"name\": \"English\",\n                    \"nativeName\": \"English\"\n                }\n            ]\n        },\n        \"pt\": {\n            \"dir\": \"ltr\",\n            \"name\": \"Portuguese\",\n            \"nativeName\": \"Português\",\n            \"translations\": [\n                {\n                    \"code\": \"en\",\n                    \"dir\": \"ltr\",\n                    \"name\": \"English\",\n                    \"nativeName\": \"English\"\n                }\n            ]\n        },\n        \"ro\": {\n            \"dir\": \"ltr\",\n            \"name\": \"Romanian\",\n            \"nativeName\": \"Română\",\n            \"translations\": [\n                {\n                    \"code\": \"en\",\n                    \"dir\": \"ltr\",\n                    \"name\": \"English\",\n                    \"nativeName\": \"English\"\n                }\n            ]\n        },\n        \"ru\": {\n            \"dir\": \"ltr\",\n            \"name\": \"Russian\",\n            \"nativeName\": \"Русский\",\n            \"translations\": [\n                {\n                    \"code\": \"en\",\n                    \"dir\": \"ltr\",\n                    \"name\": \"English\",\n                    \"nativeName\": \"English\"\n                }\n            ]\n        },\n        \"sk\": {\n            \"dir\": \"ltr\",\n            \"name\": \"Slovak\",\n            \"nativeName\": \"Slovenčina\",\n            \"translations\": [\n                {\n                    \"code\": \"en\",\n                    \"dir\": \"ltr\",\n                    \"name\": \"English\",\n                    \"nativeName\": \"English\"\n                }\n            ]\n        },\n        \"sl\": {\n            \"dir\": \"ltr\",\n            \"name\": \"Slovenian\",\n            \"nativeName\": \"Slovenščina\",\n            \"translations\": [\n                {\n                    \"code\": \"en\",\n                    \"dir\": \"ltr\",\n                    \"name\": \"English\",\n                    \"nativeName\": \"English\"\n                }\n            ]\n        },\n        \"sr-Latn\": {\n            \"dir\": \"ltr\",\n            \"name\": \"Serbian (Latin)\",\n            \"nativeName\": \"srpski (latinica)\",\n            \"translations\": [\n                {\n                    \"code\": \"en\",\n                    \"dir\": \"ltr\",\n                    \"name\": \"English\",\n                    \"nativeName\": \"English\"\n                }\n            ]\n        },\n        \"sv\": {\n            \"dir\": \"ltr\",\n            \"name\": \"Swedish\",\n            \"nativeName\": \"Svenska\",\n            \"translations\": [\n                {\n                    \"code\": \"en\",\n                    \"dir\": \"ltr\",\n                    \"name\": \"English\",\n                    \"nativeName\": \"English\"\n                }\n            ]\n        },\n        \"sw\": {\n            \"dir\": \"ltr\",\n            \"name\": \"Kiswahili\",\n            \"nativeName\": \"Kiswahili\",\n            \"translations\": [\n                {\n                    \"code\": \"en\",\n                    \"dir\": \"ltr\",\n                    \"name\": \"English\",\n                    \"nativeName\": \"English\"\n                }\n            ]\n        },\n        \"ta\": {\n            \"dir\": \"ltr\",\n            \"name\": \"Tamil\",\n            \"nativeName\": \"தமிழ்\",\n            \"translations\": [\n                {\n                    \"code\": \"en\",\n                    \"dir\": \"ltr\",\n                    \"name\": \"English\",\n                    \"nativeName\": \"English\"\n                }\n            ]\n        },\n        \"th\": {\n            \"dir\": \"ltr\",\n            \"name\": \"Thai\",\n            \"nativeName\": \"ไทย\",\n            \"translations\": [\n                {\n                    \"code\": \"en\",\n                    \"dir\": \"ltr\",\n                    \"name\": \"English\",\n                    \"nativeName\": \"English\"\n                }\n            ]\n        },\n        \"tlh\": {\n            \"dir\": \"ltr\",\n            \"name\": \"Klingon\",\n            \"nativeName\": \"Klingon\",\n            \"translations\": [\n                {\n                    \"code\": \"en\",\n                    \"dir\": \"ltr\",\n                    \"name\": \"English\",\n                    \"nativeName\": \"English\"\n                }\n            ]\n        },\n        \"tr\": {\n            \"dir\": \"ltr\",\n            \"name\": \"Turkish\",\n            \"nativeName\": \"Türkçe\",\n            \"translations\": [\n                {\n                    \"code\": \"en\",\n                    \"dir\": \"ltr\",\n                    \"name\": \"English\",\n                    \"nativeName\": \"English\"\n                }\n            ]\n        },\n        \"uk\": {\n            \"dir\": \"ltr\",\n            \"name\": \"Ukrainian\",\n            \"nativeName\": \"Українська\",\n            \"translations\": [\n                {\n                    \"code\": \"en\",\n                    \"dir\": \"ltr\",\n                    \"name\": \"English\",\n                    \"nativeName\": \"English\"\n                }\n            ]\n        },\n        \"ur\": {\n            \"dir\": \"rtl\",\n            \"name\": \"Urdu\",\n            \"nativeName\": \"اردو\",\n            \"translations\": [\n                {\n                    \"code\": \"en\",\n                    \"dir\": \"ltr\",\n                    \"name\": \"English\",\n                    \"nativeName\": \"English\"\n                }\n            ]\n        },\n        \"vi\": {\n            \"dir\": \"ltr\",\n            \"name\": \"Vietnamese\",\n            \"nativeName\": \"Tiếng Việt\",\n            \"translations\": [\n                {\n                    \"code\": \"en\",\n                    \"dir\": \"ltr\",\n                    \"name\": \"English\",\n                    \"nativeName\": \"English\"\n                }\n            ]\n        },\n        \"zh-Hans\": {\n            \"dir\": \"ltr\",\n            \"name\": \"Chinese Simplified\",\n            \"nativeName\": \"简体中文\",\n            \"translations\": [\n                {\n                    \"code\": \"en\",\n                    \"dir\": \"ltr\",\n                    \"name\": \"English\",\n                    \"nativeName\": \"English\"\n                }\n            ]\n        }\n    },\n    \"translation\": {\n        \"af\": {\n            \"dir\": \"ltr\",\n            \"name\": \"Afrikaans\",\n            \"nativeName\": \"Afrikaans\"\n        },\n        \"ar\": {\n            \"dir\": \"rtl\",\n            \"name\": \"Arabic\",\n            \"nativeName\": \"العربية\"\n        },\n        \"bg\": {\n            \"dir\": \"ltr\",\n            \"name\": \"Bulgarian\",\n            \"nativeName\": \"Български\"\n        },\n        \"bn\": {\n            \"dir\": \"ltr\",\n            \"name\": \"Bangla\",\n            \"nativeName\": \"বাংলা\"\n        },\n        \"bs\": {\n            \"dir\": \"ltr\",\n            \"name\": \"Bosnian\",\n            \"nativeName\": \"bosanski (latinica)\"\n        },\n        \"ca\": {\n            \"dir\": \"ltr\",\n            \"name\": \"Catalan\",\n            \"nativeName\": \"Català\"\n        },\n        \"cs\": {\n            \"dir\": \"ltr\",\n            \"name\": \"Czech\",\n            \"nativeName\": \"Čeština\"\n        },\n        \"cy\": {\n            \"dir\": \"ltr\",\n            \"name\": \"Welsh\",\n            \"nativeName\": \"Welsh\"\n        },\n        \"da\": {\n            \"dir\": \"ltr\",\n            \"name\": \"Danish\",\n            \"nativeName\": \"Dansk\"\n        },\n        \"de\": {\n            \"dir\": \"ltr\",\n            \"name\": \"German\",\n            \"nativeName\": \"Deutsch\"\n        },\n        \"el\": {\n            \"dir\": \"ltr\",\n            \"name\": \"Greek\",\n            \"nativeName\": \"Ελληνικά\"\n        },\n        \"en\": {\n            \"dir\": \"ltr\",\n            \"name\": \"English\",\n            \"nativeName\": \"English\"\n        },\n        \"es\": {\n            \"dir\": \"ltr\",\n            \"name\": \"Spanish\",\n            \"nativeName\": \"Español\"\n        },\n        \"et\": {\n            \"dir\": \"ltr\",\n            \"name\": \"Estonian\",\n            \"nativeName\": \"Eesti\"\n        },\n        \"fa\": {\n            \"dir\": \"rtl\",\n            \"name\": \"Persian\",\n            \"nativeName\": \"Persian\"\n        },\n        \"fi\": {\n            \"dir\": \"ltr\",\n            \"name\": \"Finnish\",\n            \"nativeName\": \"Suomi\"\n        },\n        \"fil\": {\n            \"dir\": \"ltr\",\n            \"name\": \"Filipino\",\n            \"nativeName\": \"Filipino\"\n        },\n        \"fj\": {\n            \"dir\": \"ltr\",\n            \"name\": \"Fijian\",\n            \"nativeName\": \"Fijian\"\n        },\n        \"fr\": {\n            \"dir\": \"ltr\",\n            \"name\": \"French\",\n            \"nativeName\": \"Français\"\n        },\n        \"he\": {\n            \"dir\": \"rtl\",\n            \"name\": \"Hebrew\",\n            \"nativeName\": \"עברית\"\n        },\n        \"hi\": {\n            \"dir\": \"ltr\",\n            \"name\": \"Hindi\",\n            \"nativeName\": \"हिंदी\"\n        },\n        \"hr\": {\n            \"dir\": \"ltr\",\n            \"name\": \"Croatian\",\n            \"nativeName\": \"Hrvatski\"\n        },\n        \"ht\": {\n            \"dir\": \"ltr\",\n            \"name\": \"Haitian Creole\",\n            \"nativeName\": \"Haitian Creole\"\n        },\n        \"hu\": {\n            \"dir\": \"ltr\",\n            \"name\": \"Hungarian\",\n            \"nativeName\": \"Magyar\"\n        },\n        \"id\": {\n            \"dir\": \"ltr\",\n            \"name\": \"Indonesian\",\n            \"nativeName\": \"Indonesia\"\n        },\n        \"is\": {\n            \"dir\": \"ltr\",\n            \"name\": \"Icelandic\",\n            \"nativeName\": \"Íslenska\"\n        },\n        \"it\": {\n            \"dir\": \"ltr\",\n            \"name\": \"Italian\",\n            \"nativeName\": \"Italiano\"\n        },\n        \"ja\": {\n            \"dir\": \"ltr\",\n            \"name\": \"Japanese\",\n            \"nativeName\": \"日本語\"\n        },\n        \"ko\": {\n            \"dir\": \"ltr\",\n            \"name\": \"Korean\",\n            \"nativeName\": \"한국어\"\n        },\n        \"lt\": {\n            \"dir\": \"ltr\",\n            \"name\": \"Lithuanian\",\n            \"nativeName\": \"Lietuvių\"\n        },\n        \"lv\": {\n            \"dir\": \"ltr\",\n            \"name\": \"Latvian\",\n            \"nativeName\": \"Latviešu\"\n        },\n        \"mg\": {\n            \"dir\": \"ltr\",\n            \"name\": \"Malagasy\",\n            \"nativeName\": \"Malagasy\"\n        },\n        \"mi\": {\n            \"dir\": \"ltr\",\n            \"name\": \"Maori\",\n            \"nativeName\": \"Māori\"\n        },\n        \"ms\": {\n            \"dir\": \"ltr\",\n            \"name\": \"Malay\",\n            \"nativeName\": \"Melayu\"\n        },\n        \"mt\": {\n            \"dir\": \"ltr\",\n            \"name\": \"Maltese\",\n            \"nativeName\": \"Il-Malti\"\n        },\n        \"mww\": {\n            \"dir\": \"ltr\",\n            \"name\": \"Hmong Daw\",\n            \"nativeName\": \"Hmong Daw\"\n        },\n        \"nb\": {\n            \"dir\": \"ltr\",\n            \"name\": \"Norwegian\",\n            \"nativeName\": \"Norsk\"\n        },\n        \"nl\": {\n            \"dir\": \"ltr\",\n            \"name\": \"Dutch\",\n            \"nativeName\": \"Nederlands\"\n        },\n        \"otq\": {\n            \"dir\": \"ltr\",\n            \"name\": \"Querétaro Otomi\",\n            \"nativeName\": \"Querétaro Otomi\"\n        },\n        \"pl\": {\n            \"dir\": \"ltr\",\n            \"name\": \"Polish\",\n            \"nativeName\": \"Polski\"\n        },\n        \"pt\": {\n            \"dir\": \"ltr\",\n            \"name\": \"Portuguese\",\n            \"nativeName\": \"Português\"\n        },\n        \"ro\": {\n            \"dir\": \"ltr\",\n            \"name\": \"Romanian\",\n            \"nativeName\": \"Română\"\n        },\n        \"ru\": {\n            \"dir\": \"ltr\",\n            \"name\": \"Russian\",\n            \"nativeName\": \"Русский\"\n        },\n        \"sk\": {\n            \"dir\": \"ltr\",\n            \"name\": \"Slovak\",\n            \"nativeName\": \"Slovenčina\"\n        },\n        \"sl\": {\n            \"dir\": \"ltr\",\n            \"name\": \"Slovenian\",\n            \"nativeName\": \"Slovenščina\"\n        },\n        \"sm\": {\n            \"dir\": \"ltr\",\n            \"name\": \"Samoan\",\n            \"nativeName\": \"Samoan\"\n        },\n        \"sr-Cyrl\": {\n            \"dir\": \"ltr\",\n            \"name\": \"Serbian (Cyrillic)\",\n            \"nativeName\": \"srpski (ćirilica)\"\n        },\n        \"sr-Latn\": {\n            \"dir\": \"ltr\",\n            \"name\": \"Serbian (Latin)\",\n            \"nativeName\": \"srpski (latinica)\"\n        },\n        \"sv\": {\n            \"dir\": \"ltr\",\n            \"name\": \"Swedish\",\n            \"nativeName\": \"Svenska\"\n        },\n        \"sw\": {\n            \"dir\": \"ltr\",\n            \"name\": \"Kiswahili\",\n            \"nativeName\": \"Kiswahili\"\n        },\n        \"ta\": {\n            \"dir\": \"ltr\",\n            \"name\": \"Tamil\",\n            \"nativeName\": \"தமிழ்\"\n        },\n        \"te\": {\n            \"dir\": \"ltr\",\n            \"name\": \"Telugu\",\n            \"nativeName\": \"తెలుగు\"\n        },\n        \"th\": {\n            \"dir\": \"ltr\",\n            \"name\": \"Thai\",\n            \"nativeName\": \"ไทย\"\n        },\n        \"tlh\": {\n            \"dir\": \"ltr\",\n            \"name\": \"Klingon\",\n            \"nativeName\": \"Klingon\"\n        },\n        \"to\": {\n            \"dir\": \"ltr\",\n            \"name\": \"Tongan\",\n            \"nativeName\": \"lea fakatonga\"\n        },\n        \"tr\": {\n            \"dir\": \"ltr\",\n            \"name\": \"Turkish\",\n            \"nativeName\": \"Türkçe\"\n        },\n        \"ty\": {\n            \"dir\": \"ltr\",\n            \"name\": \"Tahitian\",\n            \"nativeName\": \"Tahitian\"\n        },\n        \"uk\": {\n            \"dir\": \"ltr\",\n            \"name\": \"Ukrainian\",\n            \"nativeName\": \"Українська\"\n        },\n        \"ur\": {\n            \"dir\": \"rtl\",\n            \"name\": \"Urdu\",\n            \"nativeName\": \"اردو\"\n        },\n        \"vi\": {\n            \"dir\": \"ltr\",\n            \"name\": \"Vietnamese\",\n            \"nativeName\": \"Tiếng Việt\"\n        },\n        \"yua\": {\n            \"dir\": \"ltr\",\n            \"name\": \"Yucatec Maya\",\n            \"nativeName\": \"Yucatec Maya\"\n        },\n        \"yue\": {\n            \"dir\": \"ltr\",\n            \"name\": \"Cantonese (Traditional)\",\n            \"nativeName\": \"粵語 (繁體中文)\"\n        },\n        \"zh-Hans\": {\n            \"dir\": \"ltr\",\n            \"name\": \"Chinese Simplified\",\n            \"nativeName\": \"简体中文\"\n        },\n        \"zh-Hant\": {\n            \"dir\": \"ltr\",\n            \"name\": \"Chinese Traditional\",\n            \"nativeName\": \"繁體中文\"\n        }\n    },\n    \"transliteration\": {\n        \"ar\": {\n            \"name\": \"Arabic\",\n            \"nativeName\": \"العربية\",\n            \"scripts\": [\n                {\n                    \"code\": \"Arab\",\n                    \"dir\": \"rtl\",\n                    \"name\": \"Arabic\",\n                    \"nativeName\": \"العربية\",\n                    \"toScripts\": [\n                        {\n                            \"code\": \"Latn\",\n                            \"dir\": \"ltr\",\n                            \"name\": \"Latin\",\n                            \"nativeName\": \"اللاتينية\"\n                        }\n                    ]\n                },\n                {\n                    \"code\": \"Latn\",\n                    \"dir\": \"ltr\",\n                    \"name\": \"Latin\",\n                    \"nativeName\": \"اللاتينية\",\n                    \"toScripts\": [\n                        {\n                            \"code\": \"Arab\",\n                            \"dir\": \"rtl\",\n                            \"name\": \"Arabic\",\n                            \"nativeName\": \"العربية\"\n                        }\n                    ]\n                }\n            ]\n        },\n        \"bn\": {\n            \"name\": \"Bangla\",\n            \"nativeName\": \"বাংলা\",\n            \"scripts\": [\n                {\n                    \"code\": \"Beng\",\n                    \"dir\": \"ltr\",\n                    \"name\": \"Bengali\",\n                    \"nativeName\": \"Bengali\",\n                    \"toScripts\": [\n                        {\n                            \"code\": \"Latn\",\n                            \"dir\": \"ltr\",\n                            \"name\": \"Latin\",\n                            \"nativeName\": \"Latin\"\n                        }\n                    ]\n                },\n                {\n                    \"code\": \"Latn\",\n                    \"dir\": \"ltr\",\n                    \"name\": \"Latin\",\n                    \"nativeName\": \"Latin\",\n                    \"toScripts\": [\n                        {\n                            \"code\": \"Beng\",\n                            \"dir\": \"ltr\",\n                            \"name\": \"Bangla\",\n                            \"nativeName\": \"Bengali\"\n                        }\n                    ]\n                }\n            ]\n        },\n        \"gu\": {\n            \"name\": \"Gujarati\",\n            \"nativeName\": \"ગુજરાતી\",\n            \"scripts\": [\n                {\n                    \"code\": \"Gujr\",\n                    \"dir\": \"ltr\",\n                    \"name\": \"Gujarati\",\n                    \"nativeName\": \"Gujarati\",\n                    \"toScripts\": [\n                        {\n                            \"code\": \"Latn\",\n                            \"dir\": \"ltr\",\n                            \"name\": \"Latin\",\n                            \"nativeName\": \"Latin\"\n                        }\n                    ]\n                },\n                {\n                    \"code\": \"Latn\",\n                    \"dir\": \"ltr\",\n                    \"name\": \"Latin\",\n                    \"nativeName\": \"Latin\",\n                    \"toScripts\": [\n                        {\n                            \"code\": \"Gujr\",\n                            \"dir\": \"ltr\",\n                            \"name\": \"Gujarati\",\n                            \"nativeName\": \"Gujarati\"\n                        }\n                    ]\n                }\n            ]\n        },\n        \"he\": {\n            \"name\": \"Hebrew\",\n            \"nativeName\": \"עברית\",\n            \"scripts\": [\n                {\n                    \"code\": \"Hebr\",\n                    \"dir\": \"rtl\",\n                    \"name\": \"Hebrew\",\n                    \"nativeName\": \"עברית\",\n                    \"toScripts\": [\n                        {\n                            \"code\": \"Latn\",\n                            \"dir\": \"ltr\",\n                            \"name\": \"Latin\",\n                            \"nativeName\": \"לטינית\"\n                        }\n                    ]\n                },\n                {\n                    \"code\": \"Latn\",\n                    \"dir\": \"ltr\",\n                    \"name\": \"Latin\",\n                    \"nativeName\": \"לטינית\",\n                    \"toScripts\": [\n                        {\n                            \"code\": \"Hebr\",\n                            \"dir\": \"rtl\",\n                            \"name\": \"Hebrew\",\n                            \"nativeName\": \"עברית\"\n                        }\n                    ]\n                }\n            ]\n        },\n        \"hi\": {\n            \"name\": \"Hindi\",\n            \"nativeName\": \"हिंदी\",\n            \"scripts\": [\n                {\n                    \"code\": \"Deva\",\n                    \"dir\": \"ltr\",\n                    \"name\": \"Devanagari\",\n                    \"nativeName\": \"देवनागरी\",\n                    \"toScripts\": [\n                        {\n                            \"code\": \"Latn\",\n                            \"dir\": \"ltr\",\n                            \"name\": \"Latin\",\n                            \"nativeName\": \"लैटिन\"\n                        }\n                    ]\n                },\n                {\n                    \"code\": \"Latn\",\n                    \"dir\": \"ltr\",\n                    \"name\": \"Latin\",\n                    \"nativeName\": \"लैटिन\",\n                    \"toScripts\": [\n                        {\n                            \"code\": \"Deva\",\n                            \"dir\": \"ltr\",\n                            \"name\": \"Devanagari\",\n                            \"nativeName\": \"देवनागरी\"\n                        }\n                    ]\n                }\n            ]\n        },\n        \"ja\": {\n            \"name\": \"Japanese\",\n            \"nativeName\": \"日本語\",\n            \"scripts\": [\n                {\n                    \"code\": \"Jpan\",\n                    \"dir\": \"ltr\",\n                    \"name\": \"Japanese\",\n                    \"nativeName\": \"日本語\",\n                    \"toScripts\": [\n                        {\n                            \"code\": \"Latn\",\n                            \"dir\": \"ltr\",\n                            \"name\": \"Latin\",\n                            \"nativeName\": \"ラテン語\"\n                        }\n                    ]\n                },\n                {\n                    \"code\": \"Latn\",\n                    \"dir\": \"ltr\",\n                    \"name\": \"Latin\",\n                    \"nativeName\": \"ラテン語\",\n                    \"toScripts\": [\n                        {\n                            \"code\": \"Jpan\",\n                            \"dir\": \"ltr\",\n                            \"name\": \"Japanese\",\n                            \"nativeName\": \"日本語\"\n                        }\n                    ]\n                }\n            ]\n        },\n        \"kn\": {\n            \"name\": \"Kannada\",\n            \"nativeName\": \"ಕನ್ನಡ\",\n            \"scripts\": [\n                {\n                    \"code\": \"Knda\",\n                    \"dir\": \"ltr\",\n                    \"name\": \"Kannada\",\n                    \"nativeName\": \"Kannada\",\n                    \"toScripts\": [\n                        {\n                            \"code\": \"Latn\",\n                            \"dir\": \"ltr\",\n                            \"name\": \"Latin\",\n                            \"nativeName\": \"Latin\"\n                        }\n                    ]\n                },\n                {\n                    \"code\": \"Latn\",\n                    \"dir\": \"ltr\",\n                    \"name\": \"Latin\",\n                    \"nativeName\": \"Latin\",\n                    \"toScripts\": [\n                        {\n                            \"code\": \"Knda\",\n                            \"dir\": \"ltr\",\n                            \"name\": \"Kannada\",\n                            \"nativeName\": \"Kannada\"\n                        }\n                    ]\n                }\n            ]\n        },\n        \"ml\": {\n            \"name\": \"Malayalam\",\n            \"nativeName\": \"മലയാളം\",\n            \"scripts\": [\n                {\n                    \"code\": \"Mlym\",\n                    \"dir\": \"ltr\",\n                    \"name\": \"Malayalam\",\n                    \"nativeName\": \"Malayalam\",\n                    \"toScripts\": [\n                        {\n                            \"code\": \"Latn\",\n                            \"dir\": \"ltr\",\n                            \"name\": \"Latin\",\n                            \"nativeName\": \"Latin\"\n                        }\n                    ]\n                },\n                {\n                    \"code\": \"Latn\",\n                    \"dir\": \"ltr\",\n                    \"name\": \"Latin\",\n                    \"nativeName\": \"Latin\",\n                    \"toScripts\": [\n                        {\n                            \"code\": \"Mlym\",\n                            \"dir\": \"ltr\",\n                            \"name\": \"Malayalam\",\n                            \"nativeName\": \"Malayalam\"\n                        }\n                    ]\n                }\n            ]\n        },\n        \"mr\": {\n            \"name\": \"Marathi\",\n            \"nativeName\": \"मराठी\",\n            \"scripts\": [\n                {\n                    \"code\": \"Deva\",\n                    \"dir\": \"ltr\",\n                    \"name\": \"Devanagari\",\n                    \"nativeName\": \"Devanagari\",\n                    \"toScripts\": [\n                        {\n                            \"code\": \"Latn\",\n                            \"dir\": \"ltr\",\n                            \"name\": \"Latin\",\n                            \"nativeName\": \"Latin\"\n                        }\n                    ]\n                },\n                {\n                    \"code\": \"Latn\",\n                    \"dir\": \"ltr\",\n                    \"name\": \"Latin\",\n                    \"nativeName\": \"Latin\",\n                    \"toScripts\": [\n                        {\n                            \"code\": \"Deva\",\n                            \"dir\": \"ltr\",\n                            \"name\": \"Devanagari\",\n                            \"nativeName\": \"Devanagari\"\n                        }\n                    ]\n                }\n            ]\n        },\n        \"or\": {\n            \"name\": \"Oriya\",\n            \"nativeName\": \"Oriya\",\n            \"scripts\": [\n                {\n                    \"code\": \"Orya\",\n                    \"dir\": \"ltr\",\n                    \"name\": \"Oriya\",\n                    \"nativeName\": \"Oriya\",\n                    \"toScripts\": [\n                        {\n                            \"code\": \"Latn\",\n                            \"dir\": \"ltr\",\n                            \"name\": \"Latin\",\n                            \"nativeName\": \"Latin\"\n                        }\n                    ]\n                },\n                {\n                    \"code\": \"Latn\",\n                    \"dir\": \"ltr\",\n                    \"name\": \"Latin\",\n                    \"nativeName\": \"Latin\",\n                    \"toScripts\": [\n                        {\n                            \"code\": \"Orya\",\n                            \"dir\": \"ltr\",\n                            \"name\": \"Oriya\",\n                            \"nativeName\": \"Oriya\"\n                        }\n                    ]\n                }\n            ]\n        },\n        \"pa\": {\n            \"name\": \"Punjabi\",\n            \"nativeName\": \"ਪੰਜਾਬੀ\",\n            \"scripts\": [\n                {\n                    \"code\": \"Guru\",\n                    \"dir\": \"ltr\",\n                    \"name\": \"Gurmukhi\",\n                    \"nativeName\": \"Gurmukhi\",\n                    \"toScripts\": [\n                        {\n                            \"code\": \"Latn\",\n                            \"dir\": \"ltr\",\n                            \"name\": \"Latin\",\n                            \"nativeName\": \"Latin\"\n                        }\n                    ]\n                },\n                {\n                    \"code\": \"Latn\",\n                    \"dir\": \"ltr\",\n                    \"name\": \"Latin\",\n                    \"nativeName\": \"Latin\",\n                    \"toScripts\": [\n                        {\n                            \"code\": \"Guru\",\n                            \"dir\": \"ltr\",\n                            \"name\": \"Gurmukhi\",\n                            \"nativeName\": \"Gurmukhi\"\n                        }\n                    ]\n                }\n            ]\n        },\n        \"sr-Cyrl\": {\n            \"name\": \"Serbian (Cyrillic)\",\n            \"nativeName\": \"srpski (ćirilica)\",\n            \"scripts\": [\n                {\n                    \"code\": \"Cyrl\",\n                    \"dir\": \"ltr\",\n                    \"name\": \"Cyrillic\",\n                    \"nativeName\": \"Cyrillic\",\n                    \"toScripts\": [\n                        {\n                            \"code\": \"Latn\",\n                            \"dir\": \"ltr\",\n                            \"name\": \"Latin\",\n                            \"nativeName\": \"Latinski\"\n                        }\n                    ]\n                }\n            ]\n        },\n        \"sr-Latn\": {\n            \"name\": \"Serbian (Latin)\",\n            \"nativeName\": \"srpski (latinica)\",\n            \"scripts\": [\n                {\n                    \"code\": \"Latn\",\n                    \"dir\": \"ltr\",\n                    \"name\": \"Latin\",\n                    \"nativeName\": \"Latinski\",\n                    \"toScripts\": [\n                        {\n                            \"code\": \"Cyrl\",\n                            \"dir\": \"ltr\",\n                            \"name\": \"Cyrillic\",\n                            \"nativeName\": \"Ćirilica\"\n                        }\n                    ]\n                }\n            ]\n        },\n        \"ta\": {\n            \"name\": \"Tamil\",\n            \"nativeName\": \"தமிழ்\",\n            \"scripts\": [\n                {\n                    \"code\": \"Taml\",\n                    \"dir\": \"ltr\",\n                    \"name\": \"Tamil\",\n                    \"nativeName\": \"Tamil\",\n                    \"toScripts\": [\n                        {\n                            \"code\": \"Latn\",\n                            \"dir\": \"ltr\",\n                            \"name\": \"Latin\",\n                            \"nativeName\": \"Latin\"\n                        }\n                    ]\n                },\n                {\n                    \"code\": \"Latn\",\n                    \"dir\": \"ltr\",\n                    \"name\": \"Latin\",\n                    \"nativeName\": \"Latin\",\n                    \"toScripts\": [\n                        {\n                            \"code\": \"Taml\",\n                            \"dir\": \"ltr\",\n                            \"name\": \"Tamil\",\n                            \"nativeName\": \"Tamil\"\n                        }\n                    ]\n                }\n            ]\n        },\n        \"te\": {\n            \"name\": \"Telugu\",\n            \"nativeName\": \"తెలుగు\",\n            \"scripts\": [\n                {\n                    \"code\": \"Telu\",\n                    \"dir\": \"ltr\",\n                    \"name\": \"Telugu\",\n                    \"nativeName\": \"Telugu\",\n                    \"toScripts\": [\n                        {\n                            \"code\": \"Latn\",\n                            \"dir\": \"ltr\",\n                            \"name\": \"Latin\",\n                            \"nativeName\": \"Latin\"\n                        }\n                    ]\n                },\n                {\n                    \"code\": \"Latn\",\n                    \"dir\": \"ltr\",\n                    \"name\": \"Latin\",\n                    \"nativeName\": \"Latin\",\n                    \"toScripts\": [\n                        {\n                            \"code\": \"Telu\",\n                            \"dir\": \"ltr\",\n                            \"name\": \"Telugu\",\n                            \"nativeName\": \"Telugu\"\n                        }\n                    ]\n                }\n            ]\n        },\n        \"th\": {\n            \"name\": \"Thai\",\n            \"nativeName\": \"ไทย\",\n            \"scripts\": [\n                {\n                    \"code\": \"Thai\",\n                    \"dir\": \"ltr\",\n                    \"name\": \"Thai\",\n                    \"nativeName\": \"ภาษาไทย\",\n                    \"toScripts\": [\n                        {\n                            \"code\": \"Latn\",\n                            \"dir\": \"ltr\",\n                            \"name\": \"Latin\",\n                            \"nativeName\": \"ละติน\"\n                        }\n                    ]\n                },\n                {\n                    \"code\": \"Latn\",\n                    \"dir\": \"ltr\",\n                    \"name\": \"Latin\",\n                    \"nativeName\": \"ละติน\",\n                    \"toScripts\": [\n                        {\n                            \"code\": \"Thai\",\n                            \"dir\": \"ltr\",\n                            \"name\": \"Thai\",\n                            \"nativeName\": \"ภาษาไทย\"\n                        }\n                    ]\n                }\n            ]\n        },\n        \"zh-Hans\": {\n            \"name\": \"Chinese Simplified\",\n            \"nativeName\": \"简体中文\",\n            \"scripts\": [\n                {\n                    \"code\": \"Hans\",\n                    \"dir\": \"ltr\",\n                    \"name\": \"Simplified\",\n                    \"nativeName\": \"简体汉语\",\n                    \"toScripts\": [\n                        {\n                            \"code\": \"Latn\",\n                            \"dir\": \"ltr\",\n                            \"name\": \"Latin\",\n                            \"nativeName\": \"拉丁语\"\n                        },\n                        {\n                            \"code\": \"Hant\",\n                            \"dir\": \"ltr\",\n                            \"name\": \"Hat\",\n                            \"nativeName\": \"传统\"\n                        }\n                    ]\n                },\n                {\n                    \"code\": \"Latn\",\n                    \"dir\": \"ltr\",\n                    \"name\": \"Latin\",\n                    \"nativeName\": \"拉丁语\",\n                    \"toScripts\": [\n                        {\n                            \"code\": \"Hans\",\n                            \"dir\": \"ltr\",\n                            \"name\": \"Han\",\n                            \"nativeName\": \"简体汉语\"\n                        },\n                        {\n                            \"code\": \"Hant\",\n                            \"dir\": \"ltr\",\n                            \"name\": \"Hat\",\n                            \"nativeName\": \"传统\"\n                        }\n                    ]\n                }\n            ]\n        },\n        \"zh-Hant\": {\n            \"name\": \"Chinese Traditional\",\n            \"nativeName\": \"繁體中文\",\n            \"scripts\": [\n                {\n                    \"code\": \"Hant\",\n                    \"dir\": \"ltr\",\n                    \"name\": \"Traditional\",\n                    \"nativeName\": \"傳統\",\n                    \"toScripts\": [\n                        {\n                            \"code\": \"Latn\",\n                            \"dir\": \"ltr\",\n                            \"name\": \"Latin\",\n                            \"nativeName\": \"拉丁语\"\n                        },\n                        {\n                            \"code\": \"Hans\",\n                            \"dir\": \"ltr\",\n                            \"name\": \"Han\",\n                            \"nativeName\": \"简体汉语\"\n                        }\n                    ]\n                },\n                {\n                    \"code\": \"Latn\",\n                    \"dir\": \"ltr\",\n                    \"name\": \"Latin\",\n                    \"nativeName\": \"拉丁文\",\n                    \"toScripts\": [\n                        {\n                            \"code\": \"Hans\",\n                            \"dir\": \"ltr\",\n                            \"name\": \"Han\",\n                            \"nativeName\": \"简体汉语\"\n                        },\n                        {\n                            \"code\": \"Hant\",\n                            \"dir\": \"ltr\",\n                            \"name\": \"Hat\",\n                            \"nativeName\": \"传统\"\n                        }\n                    ]\n                }\n            ]\n        }\n    }\n}\n",
          "name": "stdout"
        }
      ]
    },
    {
      "metadata": {},
      "cell_type": "markdown",
      "source": "# Break Sentence"
    },
    {
      "metadata": {
        "trusted": true
      },
      "cell_type": "code",
      "source": "path = '/breaksentence?api-version=3.0'\nparams = '&language=en'\nconstructed_url = endpoint + path + params",
      "execution_count": 52,
      "outputs": []
    },
    {
      "metadata": {
        "trusted": true
      },
      "cell_type": "code",
      "source": "headers = {\n    'Ocp-Apim-Subscription-Key': subscription_key,\n    'Content-type': 'application/json',\n    'X-ClientTraceId': str(uuid.uuid4())\n}",
      "execution_count": 53,
      "outputs": []
    },
    {
      "metadata": {
        "trusted": true
      },
      "cell_type": "code",
      "source": "# You can pass more than one object in body.\nbody = [{\n    'text': 'Bugün Microsoft Bilişsel Servisleri ile çalışma gerçekleştiriyoruz.'\n}]",
      "execution_count": 54,
      "outputs": []
    },
    {
      "metadata": {
        "trusted": true
      },
      "cell_type": "code",
      "source": "request = requests.post(constructed_url, headers=headers, json=body)\nresponse = request.json()",
      "execution_count": 55,
      "outputs": []
    },
    {
      "metadata": {
        "trusted": true
      },
      "cell_type": "code",
      "source": "print(json.dumps(response, sort_keys=True, indent=4,\n                 ensure_ascii=False, separators=(',', ': ')))",
      "execution_count": 56,
      "outputs": [
        {
          "output_type": "stream",
          "text": "[\n    {\n        \"sentLen\": [\n            118,\n            111\n        ]\n    }\n]\n",
          "name": "stdout"
        }
      ]
    },
    {
      "metadata": {
        "trusted": true
      },
      "cell_type": "code",
      "source": "",
      "execution_count": null,
      "outputs": []
    },
    {
      "metadata": {
        "trusted": true
      },
      "cell_type": "code",
      "source": "",
      "execution_count": null,
      "outputs": []
    },
    {
      "metadata": {
        "trusted": true
      },
      "cell_type": "code",
      "source": "",
      "execution_count": null,
      "outputs": []
    }
  ],
  "metadata": {
    "kernelspec": {
      "name": "python36",
      "display_name": "Python 3.6",
      "language": "python"
    },
    "language_info": {
      "mimetype": "text/x-python",
      "nbconvert_exporter": "python",
      "name": "python",
      "pygments_lexer": "ipython3",
      "version": "3.6.6",
      "file_extension": ".py",
      "codemirror_mode": {
        "version": 3,
        "name": "ipython"
      }
    }
  },
  "nbformat": 4,
  "nbformat_minor": 2
}